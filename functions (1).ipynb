{
 "cells": [
  {
   "cell_type": "markdown",
   "id": "qualified-overhead",
   "metadata": {},
   "source": [
    "# Functions"
   ]
  },
  {
   "cell_type": "markdown",
   "id": "geographic-kazakhstan",
   "metadata": {},
   "source": [
    "## Count Non-Vowel Characters\n",
    "Write a Python function that takes a string and returns the number of non-vowel characters in that string. Vowel characters in English are `\"a\"`, `\"e\"`, `\"i\"`, `\"o\"`, and `\"u\"`. For example, given the string `\"abcdA\"`, the function should return 3."
   ]
  },
  {
   "cell_type": "code",
   "execution_count": 79,
   "id": "increased-introduction",
   "metadata": {},
   "outputs": [
    {
     "data": {
      "text/plain": [
       "3"
      ]
     },
     "execution_count": 79,
     "metadata": {},
     "output_type": "execute_result"
    }
   ],
   "source": [
    "# Input: a String \n",
    "# Output: an Integer \n",
    "\n",
    "# Defining the signiture of the function \n",
    "def n_vowels_count(input_string):\n",
    "\n",
    "    # Step2: Lowring case the input string \n",
    "    input_string = input_string.lower()\n",
    "    \n",
    "    # Step3: Iterating over the string to find the vowels and remove them\n",
    "    vowels_list = [\"a\", \"e\", \"i\", \"o\", \"u\"]\n",
    "    for v in vowels_list:\n",
    "        input_string = input_string.replace(v, \"\")\n",
    "    \n",
    "    # Step4: Counting the number of remaining characters\n",
    "    return len(input_string)\n",
    "\n",
    "result = n_vowels_count(\"abcdA\")\n",
    "result\n",
    "        \n",
    "   \n"
   ]
  },
  {
   "cell_type": "markdown",
   "id": "permanent-lawsuit",
   "metadata": {},
   "source": [
    "## Multiply the List Elements\n",
    "Write a Python function that takes a list of values as input and returns the product of all the numbers in the list. For example, given the input list `[1, 3, 8]`, the function should return 24."
   ]
  },
  {
   "cell_type": "code",
   "execution_count": 95,
   "id": "extensive-dividend",
   "metadata": {},
   "outputs": [
    {
     "name": "stdout",
     "output_type": "stream",
     "text": [
      "24\n"
     ]
    }
   ],
   "source": [
    "# Input: a list \n",
    "# Output: an Integer \n",
    "\n",
    "# Step1: Define the signiture of list multiplication list elements \n",
    "def list_elem_mult(myList):\n",
    "\n",
    "    # Step2: Multiply elements one by one\n",
    "    nums = myList\n",
    "    result = 1\n",
    "    for x in nums:\n",
    "        result = result * x\n",
    "    return result\n",
    "   \n",
    "   # Step3: Print the result\n",
    "print(list_elem_mult([1, 3, 8]))"
   ]
  },
  {
   "cell_type": "markdown",
   "id": "documented-discharge",
   "metadata": {},
   "source": [
    "## Check if a String is Palindrome\n",
    "Write a Python function that takes a string and returns `True` if it is palindrome. A palindrome is a word, number, phrase, or other sequence of characters which reads the same backward as forward. For example, given the string `\"abc\"` the function should return `False`. But, given the string `\"aba\"`, the function should return `True`."
   ]
  },
  {
   "cell_type": "code",
   "execution_count": 107,
   "id": "homeless-generator",
   "metadata": {},
   "outputs": [
    {
     "name": "stdout",
     "output_type": "stream",
     "text": [
      "Yes\n"
     ]
    }
   ],
   "source": [
    "# Input: a String \n",
    "# Output: a Boolean \n",
    "\n",
    "# Step1: Defining the signiture of Palindorme function \n",
    "def str_palindrome(input_string):\n",
    " \n",
    "    # Step2: Reverse the string \n",
    "    rev = ''.join(reversed(input_string))\n",
    "    \n",
    "    # Step3: Check if reverse and original are same or not.\n",
    "    if (input_string == rev):\n",
    "        return True\n",
    "    return False\n",
    "    \n",
    "    \n",
    "ans = str_palindrome(\"aba\")\n",
    "if (ans):\n",
    "    print(\"True\")\n",
    "else:\n",
    "    print(\"False\")"
   ]
  },
  {
   "cell_type": "markdown",
   "id": "retired-craps",
   "metadata": {},
   "source": [
    "## Count the Unique Digits in an Integer\n",
    "Write a Python function that takes a positive integer and returns the number of unique digits in that integer. For example, given the integer 12315, the function should return 4."
   ]
  },
  {
   "cell_type": "code",
   "execution_count": 128,
   "id": "australian-resort",
   "metadata": {},
   "outputs": [
    {
     "data": {
      "text/plain": [
       "4"
      ]
     },
     "execution_count": 128,
     "metadata": {},
     "output_type": "execute_result"
    }
   ],
   "source": [
    "# Input: Positive Integer \n",
    "# Output: an Integer \n",
    "\n",
    "# Define the count unique digits function \n",
    "def count_uniq_dig(input_int): \n",
    "    \n",
    "    # cnvert integer to a string\n",
    "    digit_string = str(input_int)\n",
    "\n",
    "    # Step2: Convert each character of `digit_string` to an integer\n",
    "    digit_map = map(int, digit_string)\n",
    "    digit_list = list(digit_map)\n",
    "    \n",
    "    \n",
    "    # Step3: Remove duplicates \n",
    "    unique = []\n",
    "    for i in digit_list:\n",
    "        if i not in unique:\n",
    "            unique.append(i)\n",
    "    return len(unique)\n",
    "    \n",
    "    # Step4: Print the length of the list \n",
    "count_uniq_dig(12315)\n",
    "   \n"
   ]
  },
  {
   "cell_type": "markdown",
   "id": "upset-physiology",
   "metadata": {},
   "source": [
    "## Check a Number is Prime\n",
    "Write a Python function that takes a number and checks the number is prime or not. It should return `True` for being prime and `False` otherwise. Note that a prime number (or a prime) is a natural number greater than 1 and that has no positive divisors other than 1 and itself. For example, the function should return `True` for the given number 7 and `False` for the given number 10."
   ]
  },
  {
   "cell_type": "code",
   "execution_count": 132,
   "id": "normal-garbage",
   "metadata": {},
   "outputs": [
    {
     "name": "stdout",
     "output_type": "stream",
     "text": [
      "False\n"
     ]
    }
   ],
   "source": [
    "# Input: an Integer\n",
    "# Output: Boolean value \n",
    "\n",
    "# Step1: Define the prime number function \n",
    "def is_prime(num):\n",
    "    \n",
    "    # Check the number is prime \n",
    "    for n in range(2,int(num**1/2)+1):\n",
    "        if num%n==0:\n",
    "            return False\n",
    "    return True\n",
    "    \n",
    "    # Print True or False\n",
    "print(is_prime(10))\n",
    "\n",
    "        "
   ]
  },
  {
   "cell_type": "markdown",
   "id": "daily-console",
   "metadata": {},
   "source": [
    "## Sort Hyphened-Seperated Words\n",
    "Write a Python function that takes a sequence of words that are separated by hyphens as input and returns the words in a hyphen-separated sequence after sorting the words alphabetically. For example, given the string `\"green-red-yellow-black-white\"`, the function should return `\"black-green-red-white-yellow\"`."
   ]
  },
  {
   "cell_type": "code",
   "execution_count": 146,
   "id": "aging-staff",
   "metadata": {},
   "outputs": [
    {
     "name": "stdout",
     "output_type": "stream",
     "text": [
      "black-green-red-white-yellow\n"
     ]
    }
   ],
   "source": [
    "# Input: a String\n",
    "# Output: a String \n",
    "\n",
    "# Step1: Define the sort hyphened function \n",
    "def sort_sentence(my_word):\n",
    "    l = my_word.split(\"-\") \n",
    "    l.sort() \n",
    "    s_l = str(\"-\".join(l))\n",
    "    return s_l\n",
    " \n",
    "    #items=[n for n in my_str.split('-')]\n",
    "    #items.sort()\n",
    "    \n",
    "    \n",
    "print(sort_sentence(\"green-red-yellow-black-white\"))\n",
    "    \n",
    " \n",
    "    \n"
   ]
  },
  {
   "cell_type": "markdown",
   "id": "dressed-leisure",
   "metadata": {},
   "source": [
    "## Count the Characters\n",
    "Write a Python function that takes a string as input and returns a dictionary that stores the frequency of each character in the input string. For example, given the string `\"abca\"`, the function should return `{'a': 2, 'b': 1, 'c': 1}`."
   ]
  },
  {
   "cell_type": "code",
   "execution_count": 68,
   "id": "complete-stress",
   "metadata": {},
   "outputs": [
    {
     "name": "stdout",
     "output_type": "stream",
     "text": [
      "{'a': 2, 'b': 1, 'c': 1}\n"
     ]
    }
   ],
   "source": [
    "# Input: a String\n",
    "# Output: a dictionary \n",
    "\n",
    "def dic_frequency_char(input_string):\n",
    "    \n",
    "    freq = {}\n",
    "    \n",
    "    for item in input_string:\n",
    "        \n",
    "        if (item in freq):\n",
    "            freq[item] += 1\n",
    "            \n",
    "        else:\n",
    "            freq[item] = 1\n",
    "            \n",
    "product = dic_frequency_char(\"abca\")\n",
    "print(freq)\n",
    "      \n",
    "            \n",
    "       \n",
    "   "
   ]
  },
  {
   "cell_type": "markdown",
   "id": "aerial-uganda",
   "metadata": {},
   "source": [
    "## Compute the Fibonacci Sequence\n",
    "The Fibonacci Sequence is computed based on the following formula:     \n",
    "\n",
    "$$ f(n) = 0 \\text{   if } n = 0; \\\\\n",
    "f(n) = 1 \\text{   if } n = 1; \\\\\n",
    "f(n) = f(n-1) + f(n-2) \\text{   if } n > 1. $$     \n",
    "\n",
    "Write a Python function that computes the value of `f(n)` with a given `n` as input. For example, given 7, the function should return 13."
   ]
  },
  {
   "cell_type": "code",
   "execution_count": 147,
   "id": "compatible-senate",
   "metadata": {},
   "outputs": [
    {
     "name": "stdout",
     "output_type": "stream",
     "text": [
      "13\n"
     ]
    }
   ],
   "source": [
    "# recursive function \n",
    "# Input: an Integer\n",
    "# Output: an Integer \n",
    "\n",
    "# Step1: Define the recursive function \n",
    "def fib_sequence(n):\n",
    "    \n",
    "    # Step2: Define the base condition \n",
    "    if n == 0:\n",
    "        return 0\n",
    "    if n == 1:\n",
    "        return 1\n",
    "    else:\n",
    "        return fib_sequence(n-1) + fib_sequence(n-2)\n",
    "\n",
    "print(fib_sequence(7))\n"
   ]
  },
  {
   "cell_type": "code",
   "execution_count": null,
   "id": "26c6ceb3",
   "metadata": {},
   "outputs": [],
   "source": []
  },
  {
   "cell_type": "code",
   "execution_count": null,
   "id": "d3581da2",
   "metadata": {},
   "outputs": [],
   "source": []
  }
 ],
 "metadata": {
  "kernelspec": {
   "display_name": "Python 3 (ipykernel)",
   "language": "python",
   "name": "python3"
  },
  "language_info": {
   "codemirror_mode": {
    "name": "ipython",
    "version": 3
   },
   "file_extension": ".py",
   "mimetype": "text/x-python",
   "name": "python",
   "nbconvert_exporter": "python",
   "pygments_lexer": "ipython3",
   "version": "3.8.12"
  }
 },
 "nbformat": 4,
 "nbformat_minor": 5
}
